{
 "cells": [
  {
   "cell_type": "code",
   "execution_count": 1,
   "id": "9d2b05f1-7832-4e15-a443-1b9697a58a48",
   "metadata": {},
   "outputs": [],
   "source": [
    "# 기본 라이브러리\n",
    "import numpy as np\n",
    "import pandas as pd\n",
    "import matplotlib.pyplot as plt\n",
    "import seaborn as sns\n",
    "\n",
    "# 그래프 기본 테마 설정\n",
    "# https://coldbrown.co.kr/2023/07/%ED%8C%8C%EC%9D%B4%EC%8D%AC-%EC%8B%A4%EC%A0%84%ED%8E%B8-08-seaborn-sns-set%EC%9D%84-%ED%86%B5%ED%95%B4-%EC%8A%A4%ED%83%80%EC%9D%BC-%EC%84%A4%EC%A0%95%ED%95%98%EA%B8%B0/\n",
    "sns.set()\n",
    "\n",
    "# 그래프 기본 설정\n",
    "plt.rcParams['font.family'] = 'Malgun Gothic'\n",
    "# plt.rcParams['font.family'] = 'AppleGothic'\n",
    "plt.rcParams['figure.figsize'] = 10, 5\n",
    "plt.rcParams['font.size'] = 12\n",
    "plt.rcParams['axes.unicode_minus'] = False\n",
    "\n",
    "# 복잡한 통계 처리를 위한 라이브러리\n",
    "from scipy import stats"
   ]
  },
  {
   "cell_type": "code",
   "execution_count": 2,
   "id": "2d3ec3b9-aff0-451d-9ce6-caae82586c62",
   "metadata": {},
   "outputs": [],
   "source": [
    "# 1. 엑셀 파일 경로\n",
    "file_path = '연령별 경제활동 상태 (2).xlsx'"
   ]
  },
  {
   "cell_type": "code",
   "execution_count": 3,
   "id": "69c0c9c2-04a4-4575-89a6-6c41c7d9f852",
   "metadata": {},
   "outputs": [
    {
     "name": "stderr",
     "output_type": "stream",
     "text": [
      "C:\\Users\\samsung\\anaconda\\Lib\\site-packages\\openpyxl\\styles\\stylesheet.py:237: UserWarning: Workbook contains no default style, apply openpyxl's default\n",
      "  warn(\"Workbook contains no default style, apply openpyxl's default\")\n"
     ]
    }
   ],
   "source": [
    "# 2. 엑셀 파일에서 '데이터' 시트 불러오기\n",
    "df = pd.read_excel(file_path, sheet_name='데이터')"
   ]
  },
  {
   "cell_type": "code",
   "execution_count": 4,
   "id": "fba9b49e-6535-472d-8698-f5baab173f9e",
   "metadata": {},
   "outputs": [],
   "source": [
    "# 3. '연령별'이 '* 15~29세'이고 '수학여부'가 '전체'인 행 필터링\n",
    "df_target = df[(df['연령별'] == '* 15~29세') & (df['수학여부'] == '전체')].copy()"
   ]
  },
  {
   "cell_type": "code",
   "execution_count": 5,
   "id": "b4d8de50-0305-41c9-804c-f2412a08ec35",
   "metadata": {},
   "outputs": [],
   "source": [
    "# 4. 분석 대상 연도\n",
    "years = list(range(2017, 2025))"
   ]
  },
  {
   "cell_type": "code",
   "execution_count": 6,
   "id": "9b6fbca0-6edc-4b1e-8500-6bc92c5d1822",
   "metadata": {},
   "outputs": [],
   "source": [
    "# 5. 실업률 계산\n",
    "results = []\n",
    "for year in years:\n",
    "    try:\n",
    "        econ_pop = pd.to_numeric(df_target[f'{year}.05.1'].values[0], errors='coerce')  # 경제활동인구\n",
    "        unemployed = pd.to_numeric(df_target[f'{year}.05.3'].values[0], errors='coerce')  # 실업자\n",
    "\n",
    "        if pd.isna(econ_pop) or econ_pop == 0 or pd.isna(unemployed):\n",
    "            continue\n",
    "\n",
    "        rate = round(unemployed / econ_pop * 100, 2)\n",
    "        results.append({\n",
    "            '연도': year,\n",
    "            '경제활동인구': int(econ_pop),\n",
    "            '실업자': int(unemployed),\n",
    "            '실업률': rate\n",
    "        })\n",
    "    except:\n",
    "        continue"
   ]
  },
  {
   "cell_type": "code",
   "execution_count": 7,
   "id": "1246c9db-53a0-4f3a-aeb5-6c970ebe4a84",
   "metadata": {},
   "outputs": [
    {
     "name": "stdout",
     "output_type": "stream",
     "text": [
      "     연도  경제활동인구  실업자    실업률\n",
      "0  2017    4410  408   9.25\n",
      "1  2018    4368  460  10.53\n",
      "2  2019    4390  437   9.95\n",
      "3  2020    4196  426  10.15\n",
      "4  2021    4310  402   9.33\n",
      "5  2022    4425  320   7.23\n",
      "6  2023    4252  247   5.81\n",
      "7  2024    4107  276   6.72\n"
     ]
    }
   ],
   "source": [
    "# 6. 결과를 데이터프레임으로 저장 및 출력\n",
    "df_result = pd.DataFrame(results)\n",
    "df_result.to_excel('15_29세_전체_실업률_연도별.xlsx', index=False)\n",
    "print(df_result)"
   ]
  },
  {
   "cell_type": "code",
   "execution_count": null,
   "id": "fd5c85db-3315-4ada-af3f-f571751ee592",
   "metadata": {},
   "outputs": [],
   "source": []
  },
  {
   "cell_type": "code",
   "execution_count": null,
   "id": "3ca76e48-7a81-47f5-abc8-616ac016e2ad",
   "metadata": {},
   "outputs": [],
   "source": []
  },
  {
   "cell_type": "code",
   "execution_count": null,
   "id": "db6ffdb0-b0f1-4602-88d5-8af843b46e3b",
   "metadata": {},
   "outputs": [],
   "source": []
  },
  {
   "cell_type": "code",
   "execution_count": null,
   "id": "3fc5343c-b7e3-4bbd-92d3-3c0b19089ab9",
   "metadata": {},
   "outputs": [],
   "source": []
  },
  {
   "cell_type": "code",
   "execution_count": null,
   "id": "893044dc-a65f-4a23-83c3-542ca7fd0555",
   "metadata": {},
   "outputs": [],
   "source": []
  },
  {
   "cell_type": "code",
   "execution_count": null,
   "id": "ff6d228a-4e4f-47ee-86c4-7acae2d493c8",
   "metadata": {},
   "outputs": [],
   "source": []
  },
  {
   "cell_type": "code",
   "execution_count": null,
   "id": "b18adea4-5180-4351-acc3-235ff587e806",
   "metadata": {},
   "outputs": [],
   "source": []
  },
  {
   "cell_type": "code",
   "execution_count": null,
   "id": "5e57f99a-9cb6-41ec-9f9c-a645ab2f60ef",
   "metadata": {},
   "outputs": [],
   "source": []
  },
  {
   "cell_type": "code",
   "execution_count": null,
   "id": "e0286c70-7f6c-4b4b-a891-1e690fa544e3",
   "metadata": {},
   "outputs": [],
   "source": []
  },
  {
   "cell_type": "code",
   "execution_count": null,
   "id": "ab8bc0df-d82a-4efc-814c-736397d3da02",
   "metadata": {},
   "outputs": [],
   "source": []
  },
  {
   "cell_type": "code",
   "execution_count": null,
   "id": "08f7cf96-f578-45b5-ab92-b9f5b0bd7bf9",
   "metadata": {},
   "outputs": [],
   "source": []
  },
  {
   "cell_type": "code",
   "execution_count": null,
   "id": "ff1f321f-c259-4e94-8230-128fcbfd7e61",
   "metadata": {},
   "outputs": [],
   "source": []
  },
  {
   "cell_type": "code",
   "execution_count": null,
   "id": "d18267bc-fba7-4875-8497-07219bc85fac",
   "metadata": {},
   "outputs": [],
   "source": []
  },
  {
   "cell_type": "code",
   "execution_count": null,
   "id": "ab736717-fae9-4471-8425-c653ef1d57cc",
   "metadata": {},
   "outputs": [],
   "source": []
  },
  {
   "cell_type": "code",
   "execution_count": null,
   "id": "8f7d7642-f72c-4ab1-9fd0-3e4839434638",
   "metadata": {},
   "outputs": [],
   "source": []
  },
  {
   "cell_type": "code",
   "execution_count": null,
   "id": "1f787195-9e39-4cc6-a98c-55f3a2264d73",
   "metadata": {},
   "outputs": [],
   "source": []
  }
 ],
 "metadata": {
  "kernelspec": {
   "display_name": "Python 3 (ipykernel)",
   "language": "python",
   "name": "python3"
  },
  "language_info": {
   "codemirror_mode": {
    "name": "ipython",
    "version": 3
   },
   "file_extension": ".py",
   "mimetype": "text/x-python",
   "name": "python",
   "nbconvert_exporter": "python",
   "pygments_lexer": "ipython3",
   "version": "3.12.7"
  }
 },
 "nbformat": 4,
 "nbformat_minor": 5
}
