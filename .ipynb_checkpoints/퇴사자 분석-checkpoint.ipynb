{
 "cells": [
  {
   "cell_type": "markdown",
   "id": "60c08941-b0ab-4610-bffc-07cdbe508d1d",
   "metadata": {},
   "source": [
    "# 연도별 퇴사자 비율 변화"
   ]
  },
  {
   "cell_type": "markdown",
   "id": "d3a778bb-49bb-45c2-8704-062e3de1d5d1",
   "metadata": {},
   "source": [
    "## #연도별 퇴사자 수 데이터"
   ]
  },
  {
   "cell_type": "code",
   "execution_count": 3,
   "id": "2d618c66-2ba9-4431-95bc-4dfc0317bfb1",
   "metadata": {},
   "outputs": [],
   "source": [
    "# 기본 라이브러리\n",
    "import numpy as np\n",
    "import pandas as pd\n",
    "import matplotlib.pyplot as plt\n",
    "import seaborn as sns\n",
    "\n",
    "# 그래프 기본 테마 설정\n",
    "# https://coldbrown.co.kr/2023/07/%ED%8C%8C%EC%9D%B4%EC%8D%AC-%EC%8B%A4%EC%A0%84%ED%8E%B8-08-seaborn-sns-set%EC%9D%84-%ED%86%B5%ED%95%B4-%EC%8A%A4%ED%83%80%EC%9D%BC-%EC%84%A4%EC%A0%95%ED%95%98%EA%B8%B0/\n",
    "sns.set()\n",
    "\n",
    "# 그래프 기본 설정\n",
    "#plt.rcParams['font.family'] = 'Malgun Gothic'\n",
    "plt.rcParams['font.family'] = 'AppleGothic'\n",
    "plt.rcParams['figure.figsize'] = 10, 5\n",
    "plt.rcParams['font.size'] = 12\n",
    "plt.rcParams['axes.unicode_minus'] = False\n",
    "\n",
    "# 복잡한 통계 처리를 위한 라이브러리\n",
    "from scipy import stats"
   ]
  },
  {
   "cell_type": "code",
   "execution_count": 4,
   "id": "2d179642-a50a-4c49-aa30-807512cccbae",
   "metadata": {},
   "outputs": [],
   "source": [
    "df = pd.read_excel('퇴사자 분석 데이터.xlsx')"
   ]
  },
  {
   "cell_type": "code",
   "execution_count": 5,
   "id": "0e5eea1a-5dd2-40eb-bc47-7c30945f9110",
   "metadata": {},
   "outputs": [
    {
     "name": "stdout",
     "output_type": "stream",
     "text": [
      "<class 'pandas.core.frame.DataFrame'>\n",
      "RangeIndex: 38 entries, 0 to 37\n",
      "Columns: 145 entries, 산업별(1) to 2023.15\n",
      "dtypes: object(145)\n",
      "memory usage: 43.2+ KB\n"
     ]
    },
    {
     "data": {
      "text/html": [
       "<div>\n",
       "<style scoped>\n",
       "    .dataframe tbody tr th:only-of-type {\n",
       "        vertical-align: middle;\n",
       "    }\n",
       "\n",
       "    .dataframe tbody tr th {\n",
       "        vertical-align: top;\n",
       "    }\n",
       "\n",
       "    .dataframe thead th {\n",
       "        text-align: right;\n",
       "    }\n",
       "</style>\n",
       "<table border=\"1\" class=\"dataframe\">\n",
       "  <thead>\n",
       "    <tr style=\"text-align: right;\">\n",
       "      <th></th>\n",
       "      <th>산업별(1)</th>\n",
       "      <th>2015</th>\n",
       "      <th>2015.1</th>\n",
       "      <th>2015.2</th>\n",
       "      <th>2015.3</th>\n",
       "      <th>2015.4</th>\n",
       "      <th>2015.5</th>\n",
       "      <th>2015.6</th>\n",
       "      <th>2015.7</th>\n",
       "      <th>2015.8</th>\n",
       "      <th>...</th>\n",
       "      <th>2023.6</th>\n",
       "      <th>2023.7</th>\n",
       "      <th>2023.8</th>\n",
       "      <th>2023.9</th>\n",
       "      <th>2023.10</th>\n",
       "      <th>2023.11</th>\n",
       "      <th>2023.12</th>\n",
       "      <th>2023.13</th>\n",
       "      <th>2023.14</th>\n",
       "      <th>2023.15</th>\n",
       "    </tr>\n",
       "  </thead>\n",
       "  <tbody>\n",
       "    <tr>\n",
       "      <th>count</th>\n",
       "      <td>38</td>\n",
       "      <td>38</td>\n",
       "      <td>38</td>\n",
       "      <td>38</td>\n",
       "      <td>38</td>\n",
       "      <td>38</td>\n",
       "      <td>38</td>\n",
       "      <td>38</td>\n",
       "      <td>38</td>\n",
       "      <td>38</td>\n",
       "      <td>...</td>\n",
       "      <td>38</td>\n",
       "      <td>38</td>\n",
       "      <td>38</td>\n",
       "      <td>38</td>\n",
       "      <td>38</td>\n",
       "      <td>38</td>\n",
       "      <td>38</td>\n",
       "      <td>38</td>\n",
       "      <td>38</td>\n",
       "      <td>38</td>\n",
       "    </tr>\n",
       "    <tr>\n",
       "      <th>unique</th>\n",
       "      <td>37</td>\n",
       "      <td>38</td>\n",
       "      <td>38</td>\n",
       "      <td>36</td>\n",
       "      <td>38</td>\n",
       "      <td>38</td>\n",
       "      <td>38</td>\n",
       "      <td>38</td>\n",
       "      <td>15</td>\n",
       "      <td>38</td>\n",
       "      <td>...</td>\n",
       "      <td>38</td>\n",
       "      <td>9</td>\n",
       "      <td>38</td>\n",
       "      <td>38</td>\n",
       "      <td>38</td>\n",
       "      <td>9</td>\n",
       "      <td>38</td>\n",
       "      <td>37</td>\n",
       "      <td>34</td>\n",
       "      <td>7</td>\n",
       "    </tr>\n",
       "    <tr>\n",
       "      <th>top</th>\n",
       "      <td>산업별(1)</td>\n",
       "      <td>퇴사인력</td>\n",
       "      <td>퇴사인력</td>\n",
       "      <td>0</td>\n",
       "      <td>퇴사인력</td>\n",
       "      <td>구인인력</td>\n",
       "      <td>구인인력</td>\n",
       "      <td>구인인력</td>\n",
       "      <td>0</td>\n",
       "      <td>채용인력</td>\n",
       "      <td>...</td>\n",
       "      <td>구인인력</td>\n",
       "      <td>0</td>\n",
       "      <td>채용인력</td>\n",
       "      <td>채용인력</td>\n",
       "      <td>채용인력</td>\n",
       "      <td>0</td>\n",
       "      <td>미충원인력</td>\n",
       "      <td>80</td>\n",
       "      <td>0</td>\n",
       "      <td>0</td>\n",
       "    </tr>\n",
       "    <tr>\n",
       "      <th>freq</th>\n",
       "      <td>2</td>\n",
       "      <td>1</td>\n",
       "      <td>1</td>\n",
       "      <td>2</td>\n",
       "      <td>1</td>\n",
       "      <td>1</td>\n",
       "      <td>1</td>\n",
       "      <td>1</td>\n",
       "      <td>24</td>\n",
       "      <td>1</td>\n",
       "      <td>...</td>\n",
       "      <td>1</td>\n",
       "      <td>30</td>\n",
       "      <td>1</td>\n",
       "      <td>1</td>\n",
       "      <td>1</td>\n",
       "      <td>29</td>\n",
       "      <td>1</td>\n",
       "      <td>2</td>\n",
       "      <td>3</td>\n",
       "      <td>32</td>\n",
       "    </tr>\n",
       "  </tbody>\n",
       "</table>\n",
       "<p>4 rows × 145 columns</p>\n",
       "</div>"
      ],
      "text/plain": [
       "        산업별(1)  2015 2015.1  2015.2 2015.3 2015.4 2015.5 2015.6  2015.7  \\\n",
       "count       38    38     38      38     38     38     38     38      38   \n",
       "unique      37    38     38      36     38     38     38     38      15   \n",
       "top     산업별(1)  퇴사인력   퇴사인력       0   퇴사인력   구인인력   구인인력   구인인력       0   \n",
       "freq         2     1      1       2      1      1      1      1      24   \n",
       "\n",
       "       2015.8  ... 2023.6 2023.7  2023.8  2023.9  2023.10  2023.11  2023.12  \\\n",
       "count      38  ...     38     38      38      38       38       38       38   \n",
       "unique     38  ...     38      9      38      38       38        9       38   \n",
       "top      채용인력  ...   구인인력      0    채용인력    채용인력     채용인력        0    미충원인력   \n",
       "freq        1  ...      1     30       1       1        1       29        1   \n",
       "\n",
       "        2023.13 2023.14  2023.15  \n",
       "count        38      38       38  \n",
       "unique       37      34        7  \n",
       "top          80       0        0  \n",
       "freq          2       3       32  \n",
       "\n",
       "[4 rows x 145 columns]"
      ]
     },
     "execution_count": 5,
     "metadata": {},
     "output_type": "execute_result"
    }
   ],
   "source": [
    "# 데이터 상위 5개 행\n",
    "df.head()\n",
    "\n",
    "# 데이터 구조 확인\n",
    "df.info()\n",
    "\n",
    "# 통계 요약\n",
    "df.describe()"
   ]
  },
  {
   "cell_type": "code",
   "execution_count": 6,
   "id": "b1feb43a-46db-4822-822c-33efd2eb0291",
   "metadata": {},
   "outputs": [
    {
     "data": {
      "text/plain": [
       "산업별(1)     0\n",
       "2015       0\n",
       "2015.1     0\n",
       "2015.2     0\n",
       "2015.3     0\n",
       "          ..\n",
       "2023.11    0\n",
       "2023.12    0\n",
       "2023.13    0\n",
       "2023.14    0\n",
       "2023.15    0\n",
       "Length: 145, dtype: int64"
      ]
     },
     "execution_count": 6,
     "metadata": {},
     "output_type": "execute_result"
    }
   ],
   "source": [
    "# 결측치 확인\n",
    "df.isnull().sum()"
   ]
  },
  {
   "cell_type": "code",
   "execution_count": 7,
   "id": "06629a50-50a1-40d2-9336-76d600aae79e",
   "metadata": {},
   "outputs": [],
   "source": [
    "df1 = df[['2015', '2016', '2017', '2018', '2019', '2020', '2021', '2022', '2023']]\n",
    "df2 = df1.iloc[[2]]"
   ]
  },
  {
   "cell_type": "code",
   "execution_count": 8,
   "id": "60e886e6-212c-40c5-9d28-21c2e161e310",
   "metadata": {},
   "outputs": [],
   "source": [
    "df2 = df2.rename(index={2: '퇴사인력'})"
   ]
  },
  {
   "cell_type": "code",
   "execution_count": 15,
   "id": "a9931ef0-cf6b-4ba8-bb03-630f549ea149",
   "metadata": {},
   "outputs": [
    {
     "data": {
      "text/html": [
       "<div>\n",
       "<style scoped>\n",
       "    .dataframe tbody tr th:only-of-type {\n",
       "        vertical-align: middle;\n",
       "    }\n",
       "\n",
       "    .dataframe tbody tr th {\n",
       "        vertical-align: top;\n",
       "    }\n",
       "\n",
       "    .dataframe thead th {\n",
       "        text-align: right;\n",
       "    }\n",
       "</style>\n",
       "<table border=\"1\" class=\"dataframe\">\n",
       "  <thead>\n",
       "    <tr style=\"text-align: right;\">\n",
       "      <th>연도</th>\n",
       "      <th>2015</th>\n",
       "      <th>2016</th>\n",
       "      <th>2017</th>\n",
       "      <th>2018</th>\n",
       "      <th>2019</th>\n",
       "      <th>2020</th>\n",
       "      <th>2021</th>\n",
       "      <th>2022</th>\n",
       "      <th>2023</th>\n",
       "    </tr>\n",
       "  </thead>\n",
       "  <tbody>\n",
       "    <tr>\n",
       "      <th>퇴사인력</th>\n",
       "      <td>148035</td>\n",
       "      <td>150304</td>\n",
       "      <td>151447</td>\n",
       "      <td>155382</td>\n",
       "      <td>156594</td>\n",
       "      <td>158671</td>\n",
       "      <td>159550</td>\n",
       "      <td>159923</td>\n",
       "      <td>157490</td>\n",
       "    </tr>\n",
       "  </tbody>\n",
       "</table>\n",
       "</div>"
      ],
      "text/plain": [
       "연도      2015    2016    2017    2018    2019    2020    2021    2022    2023\n",
       "퇴사인력  148035  150304  151447  155382  156594  158671  159550  159923  157490"
      ]
     },
     "execution_count": 15,
     "metadata": {},
     "output_type": "execute_result"
    }
   ],
   "source": [
    "df2.columns.name = '연도'\n",
    "df2"
   ]
  },
  {
   "cell_type": "markdown",
   "id": "96facd45-091c-4c34-bd26-0f08ac105a7f",
   "metadata": {},
   "source": [
    "### 퇴사자의 수는 2015년부터 2022년까지 계속해서 증가하였으며, 2023년에는 157490으로 퇴사자의 수가 하락하였다."
   ]
  },
  {
   "cell_type": "markdown",
   "id": "68dbf3ed-bd48-4d35-84e8-1b959a0d9e4e",
   "metadata": {},
   "source": [
    "## #연도별 퇴사자 수 증감 파악"
   ]
  },
  {
   "cell_type": "code",
   "execution_count": 17,
   "id": "b80b3eef-2204-400e-ae66-6da0be865208",
   "metadata": {},
   "outputs": [
    {
     "name": "stdout",
     "output_type": "stream",
     "text": [
      "연도      2015    2016    2017    2018    2019    2020    2021    2022    2023\n",
      "퇴사인력  148035  150304  151447  155382  156594  158671  159550  159923  157490\n",
      "증감량      NaN    2269    1143    3935    1212    2077     879     373   -2433\n"
     ]
    }
   ],
   "source": [
    "# 전년도 대비 증감량 계산 (열 방향)\n",
    "delta = df2.diff(axis=1)\n",
    "\n",
    "# 인덱스 이름 바꾸기\n",
    "delta.index = ['증감량']\n",
    "\n",
    "# 열 이름 그대로 유지\n",
    "delta.columns.name = '연도'\n",
    "\n",
    "# 원본과 증감량 위아래로 결합\n",
    "df_final = pd.concat([df2, delta])\n",
    "\n",
    "# 출력\n",
    "print(df_final)"
   ]
  },
  {
   "cell_type": "code",
   "execution_count": 23,
   "id": "f5accbd7-43e6-44ee-b005-b7b46bfa9731",
   "metadata": {},
   "outputs": [],
   "source": [
    "df_final.to_excel('연도별 퇴사인력_증감.xlsx')"
   ]
  },
  {
   "cell_type": "code",
   "execution_count": null,
   "id": "d2de36b5-4f3e-4c79-8c45-7ad493b9fd3c",
   "metadata": {},
   "outputs": [],
   "source": []
  },
  {
   "cell_type": "code",
   "execution_count": null,
   "id": "d4afe9c2-4aaf-4457-90a5-15484f980cee",
   "metadata": {},
   "outputs": [],
   "source": []
  },
  {
   "cell_type": "code",
   "execution_count": null,
   "id": "0a5acf7d-9173-43e5-948a-b35193ac5531",
   "metadata": {},
   "outputs": [],
   "source": []
  },
  {
   "cell_type": "code",
   "execution_count": null,
   "id": "550117e5-507c-407b-92ee-bb0fc2b8fb54",
   "metadata": {},
   "outputs": [],
   "source": []
  },
  {
   "cell_type": "code",
   "execution_count": null,
   "id": "f5b76c06-1a75-42e8-a46a-de199ed03f01",
   "metadata": {},
   "outputs": [],
   "source": []
  },
  {
   "cell_type": "code",
   "execution_count": null,
   "id": "251da80f-7e7a-4ced-9e09-6929b8e52afc",
   "metadata": {},
   "outputs": [],
   "source": []
  },
  {
   "cell_type": "code",
   "execution_count": null,
   "id": "42efd22e-4788-4559-ab39-1abd092a0296",
   "metadata": {},
   "outputs": [],
   "source": []
  }
 ],
 "metadata": {
  "kernelspec": {
   "display_name": "Python [conda env:base] *",
   "language": "python",
   "name": "conda-base-py"
  },
  "language_info": {
   "codemirror_mode": {
    "name": "ipython",
    "version": 3
   },
   "file_extension": ".py",
   "mimetype": "text/x-python",
   "name": "python",
   "nbconvert_exporter": "python",
   "pygments_lexer": "ipython3",
   "version": "3.12.7"
  }
 },
 "nbformat": 4,
 "nbformat_minor": 5
}
