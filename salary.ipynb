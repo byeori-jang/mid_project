{
 "cells": [
  {
   "cell_type": "markdown",
   "id": "802f0986",
   "metadata": {},
   "source": [
    "# 월평균 초임 임금에 따른 청년의 퇴사율\n",
    "- 임금 수준이 낮은 청년 근로자일수록 1년 미만 퇴사율이 높은가?\n",
    "<br>\n",
    "- 목적 : 청년 정규직 근로자 중, 평균 임금 이하에 해당하는 비율이 높을수록 1년 미만 근속자 비율(조기퇴사율)도 높아지는가?를 확인\n",
    "\n",
    "\n",
    "#### 🎈변수 정의\n",
    "| 변수         | 설명                                           |\n",
    "| ---------- | -------------------------------------------- |\n",
    "| **저임금 비율** | 평균 임금 이하 근무자 비율(`해당 연도 평균임금 이하 구간의 인원 수 / 전체 청년 근무자 수`)      |\n",
    "| **조기퇴사율**  | 1년 미만 근속자의 비율 (`1년 미만 근속자 수 / 전체 근로자 수`) |\n"
   ]
  },
  {
   "cell_type": "code",
   "execution_count": 1,
   "id": "1cf7bdb4",
   "metadata": {},
   "outputs": [],
   "source": [
    "# 기본 라이브러리\n",
    "import numpy as np\n",
    "import pandas as pd\n",
    "import matplotlib.pyplot as plt\n",
    "import seaborn as sns\n",
    "\n",
    "# 그래프 기본 테마 설정\n",
    "# https://coldbrown.co.kr/2023/07/%ED%8C%8C%EC%9D%B4%EC%8D%AC-%EC%8B%A4%EC%A0%84%ED%8E%B8-08-seaborn-sns-set%EC%9D%84-%ED%86%B5%ED%95%B4-%EC%8A%A4%ED%83%80%EC%9D%BC-%EC%84%A4%EC%A0%95%ED%95%98%EA%B8%B0/\n",
    "sns.set()\n",
    "\n",
    "# 그래프 기본 설정\n",
    "plt.rcParams['font.family'] = 'Malgun Gothic'\n",
    "# plt.rcParams['font.family'] = 'AppleGothic'\n",
    "plt.rcParams['figure.figsize'] = 10, 5\n",
    "plt.rcParams['font.size'] = 12\n",
    "plt.rcParams['axes.unicode_minus'] = False\n",
    "\n",
    "# 복잡한 통계 처리를 위한 라이브러리\n",
    "from scipy import stats"
   ]
  },
  {
   "cell_type": "markdown",
   "id": "2e293b36",
   "metadata": {},
   "source": [
    "## ✍저임금 비율\n",
    "+ 경제활동 인구 中 실업자 : 퇴사율\n",
    "+ 평균 임금 이하의 근로자 : 임금 수준이 낮은 청년 근로자\n",
    "\n",
    "#### 1. 연도별 청년 평균임금 추출"
   ]
  },
  {
   "cell_type": "code",
   "execution_count": null,
   "id": "8e03bbe9",
   "metadata": {},
   "outputs": [],
   "source": [
    "# 월 평균 초임 임금 starting salary\n",
    "salary = pd.read_excel(\"data/성별 첫일자리 월평균임금(17 ~ 24년).xlsx\")"
   ]
  },
  {
   "cell_type": "code",
   "execution_count": 3,
   "id": "77ae0a8f",
   "metadata": {},
   "outputs": [
    {
     "data": {
      "text/plain": [
       "Index(['연령구분', '성별', '월평균 임금', '2017.05', '2018.05', '2019.05', '2020.05',\n",
       "       '2021.05', '2022.05', '2023.05', '2024.05'],\n",
       "      dtype='object')"
      ]
     },
     "execution_count": 3,
     "metadata": {},
     "output_type": "execute_result"
    }
   ],
   "source": [
    "salary.columns"
   ]
  },
  {
   "cell_type": "code",
   "execution_count": 4,
   "id": "86ec592e",
   "metadata": {},
   "outputs": [],
   "source": [
    "# 데이터 뒤에 .05 제거\n",
    "salary_cols = salary.columns.str.replace('.05', '')\n",
    "\n",
    "# 컬럼명을 salary_cols로 변경\n",
    "salary.columns = salary_cols"
   ]
  },
  {
   "cell_type": "code",
   "execution_count": 5,
   "id": "f5f57a94",
   "metadata": {},
   "outputs": [],
   "source": [
    "# 결측치 처리: ffill() - 앞의 값을 채움\n",
    "s_salary = salary.ffill()\n",
    "\n",
    "# 연령구분이 15~29세, 성별이 계인 경우의 데이터 추출\n",
    "age1529 = s_salary[(s_salary['연령구분'] == '15~29세') & (s_salary['성별'] == '계')]\n",
    "\n",
    "# 연령구분이랑 성별 컬럼 삭제\n",
    "age1529 = age1529.drop(columns=['연령구분', '성별'])"
   ]
  },
  {
   "cell_type": "code",
   "execution_count": 6,
   "id": "dcedc698",
   "metadata": {},
   "outputs": [
    {
     "data": {
      "text/html": [
       "<div>\n",
       "<style scoped>\n",
       "    .dataframe tbody tr th:only-of-type {\n",
       "        vertical-align: middle;\n",
       "    }\n",
       "\n",
       "    .dataframe tbody tr th {\n",
       "        vertical-align: top;\n",
       "    }\n",
       "\n",
       "    .dataframe thead th {\n",
       "        text-align: right;\n",
       "    }\n",
       "</style>\n",
       "<table border=\"1\" class=\"dataframe\">\n",
       "  <thead>\n",
       "    <tr style=\"text-align: right;\">\n",
       "      <th></th>\n",
       "      <th>월평균 임금</th>\n",
       "      <th>2017</th>\n",
       "      <th>2018</th>\n",
       "      <th>2019</th>\n",
       "      <th>2020</th>\n",
       "      <th>2021</th>\n",
       "      <th>2022</th>\n",
       "      <th>2023</th>\n",
       "      <th>2024</th>\n",
       "    </tr>\n",
       "  </thead>\n",
       "  <tbody>\n",
       "    <tr>\n",
       "      <th>0</th>\n",
       "      <td>50만원 미만</td>\n",
       "      <td>140</td>\n",
       "      <td>175</td>\n",
       "      <td>214</td>\n",
       "      <td>230</td>\n",
       "      <td>183</td>\n",
       "      <td>167</td>\n",
       "      <td>132</td>\n",
       "      <td>158</td>\n",
       "    </tr>\n",
       "    <tr>\n",
       "      <th>1</th>\n",
       "      <td>50~100만원 미만</td>\n",
       "      <td>546</td>\n",
       "      <td>560</td>\n",
       "      <td>522</td>\n",
       "      <td>498</td>\n",
       "      <td>481</td>\n",
       "      <td>463</td>\n",
       "      <td>379</td>\n",
       "      <td>359</td>\n",
       "    </tr>\n",
       "    <tr>\n",
       "      <th>2</th>\n",
       "      <td>100~150만원 미만</td>\n",
       "      <td>1537</td>\n",
       "      <td>1288</td>\n",
       "      <td>1156</td>\n",
       "      <td>966</td>\n",
       "      <td>812</td>\n",
       "      <td>663</td>\n",
       "      <td>620</td>\n",
       "      <td>489</td>\n",
       "    </tr>\n",
       "    <tr>\n",
       "      <th>3</th>\n",
       "      <td>150~200만원 미만</td>\n",
       "      <td>1216</td>\n",
       "      <td>1399</td>\n",
       "      <td>1421</td>\n",
       "      <td>1424</td>\n",
       "      <td>1501</td>\n",
       "      <td>1506</td>\n",
       "      <td>1408</td>\n",
       "      <td>1245</td>\n",
       "    </tr>\n",
       "    <tr>\n",
       "      <th>4</th>\n",
       "      <td>200~300만원 미만</td>\n",
       "      <td>569</td>\n",
       "      <td>633</td>\n",
       "      <td>755</td>\n",
       "      <td>833</td>\n",
       "      <td>939</td>\n",
       "      <td>1168</td>\n",
       "      <td>1236</td>\n",
       "      <td>1324</td>\n",
       "    </tr>\n",
       "    <tr>\n",
       "      <th>5</th>\n",
       "      <td>300만원 이상</td>\n",
       "      <td>93</td>\n",
       "      <td>85</td>\n",
       "      <td>101</td>\n",
       "      <td>119</td>\n",
       "      <td>140</td>\n",
       "      <td>151</td>\n",
       "      <td>171</td>\n",
       "      <td>190</td>\n",
       "    </tr>\n",
       "  </tbody>\n",
       "</table>\n",
       "</div>"
      ],
      "text/plain": [
       "         월평균 임금  2017  2018  2019  2020  2021  2022  2023  2024\n",
       "0       50만원 미만   140   175   214   230   183   167   132   158\n",
       "1   50~100만원 미만   546   560   522   498   481   463   379   359\n",
       "2  100~150만원 미만  1537  1288  1156   966   812   663   620   489\n",
       "3  150~200만원 미만  1216  1399  1421  1424  1501  1506  1408  1245\n",
       "4  200~300만원 미만   569   633   755   833   939  1168  1236  1324\n",
       "5      300만원 이상    93    85   101   119   140   151   171   190"
      ]
     },
     "execution_count": 6,
     "metadata": {},
     "output_type": "execute_result"
    }
   ],
   "source": [
    "age1529 = age1529.drop(index=0).reset_index(drop=True)\n",
    "age1529"
   ]
  },
  {
   "cell_type": "markdown",
   "id": "30122012",
   "metadata": {},
   "source": [
    "#### 2. 평균 이하 비율 계산\n",
    "- 각 연도별로 평균임금 이하 구간에 속하는 청년 근로자의 비율\n",
    "- (평균이하인원/전체인원)\n"
   ]
  },
  {
   "cell_type": "code",
   "execution_count": null,
   "id": "b276717b",
   "metadata": {},
   "outputs": [],
   "source": [
    "salary_mean = pd.read_excel(\"data/연령별_평균임금.xlsx\")\n",
    "salary_mean\n",
    "salary_mean.columns"
   ]
  },
  {
   "cell_type": "code",
   "execution_count": 8,
   "id": "7e7c486e",
   "metadata": {},
   "outputs": [
    {
     "data": {
      "text/html": [
       "<div>\n",
       "<style scoped>\n",
       "    .dataframe tbody tr th:only-of-type {\n",
       "        vertical-align: middle;\n",
       "    }\n",
       "\n",
       "    .dataframe tbody tr th {\n",
       "        vertical-align: top;\n",
       "    }\n",
       "\n",
       "    .dataframe thead th {\n",
       "        text-align: right;\n",
       "    }\n",
       "</style>\n",
       "<table border=\"1\" class=\"dataframe\">\n",
       "  <thead>\n",
       "    <tr style=\"text-align: right;\">\n",
       "      <th></th>\n",
       "      <th>2017</th>\n",
       "      <th>2018</th>\n",
       "      <th>2019</th>\n",
       "      <th>2020</th>\n",
       "      <th>2021</th>\n",
       "      <th>2022</th>\n",
       "      <th>2023</th>\n",
       "      <th>2024</th>\n",
       "    </tr>\n",
       "  </thead>\n",
       "  <tbody>\n",
       "    <tr>\n",
       "      <th>1</th>\n",
       "      <td>1979</td>\n",
       "      <td>2116</td>\n",
       "      <td>2222</td>\n",
       "      <td>2221</td>\n",
       "      <td>2265</td>\n",
       "      <td>2471</td>\n",
       "      <td>2580</td>\n",
       "      <td>2601</td>\n",
       "    </tr>\n",
       "  </tbody>\n",
       "</table>\n",
       "</div>"
      ],
      "text/plain": [
       "   2017  2018  2019  2020  2021  2022  2023  2024\n",
       "1  1979  2116  2222  2221  2265  2471  2580  2601"
      ]
     },
     "execution_count": 8,
     "metadata": {},
     "output_type": "execute_result"
    }
   ],
   "source": [
    "salary_mean = salary_mean[1:]\n",
    "salary_mean = salary_mean.drop(columns=['고용형태', '연령'])\n",
    "salary_mean"
   ]
  },
  {
   "cell_type": "code",
   "execution_count": 9,
   "id": "8805d605",
   "metadata": {},
   "outputs": [
    {
     "name": "stdout",
     "output_type": "stream",
     "text": [
      "['50만원 미만' '50~100만원 미만' '100~150만원 미만' '150~200만원 미만' '200~300만원 미만'\n",
      " '300만원 이상']\n"
     ]
    }
   ],
   "source": [
    "print(age1529[\"월평균 임금\"].unique())"
   ]
  },
  {
   "cell_type": "code",
   "execution_count": 10,
   "id": "82b7b92a",
   "metadata": {},
   "outputs": [],
   "source": [
    "wage_median = { # 중앙값 사용 => 가중 평균 계산\n",
    "    '50만원 미만' : 25,\n",
    "    '50~100만원 미만' : 75,\n",
    "    '100~150만원 미만' : 125,\n",
    "    '150~200만원 미만' : 175,\n",
    "    '200~300만원 미만' : 250,\n",
    "    '300만원 이상' : 300\n",
    "}\n",
    "# 월평균 임금에 중앙값 적용\n",
    "age1529[\"중앙값\"] = age1529[\"월평균 임금\"].map(wage_median)"
   ]
  },
  {
   "cell_type": "code",
   "execution_count": 11,
   "id": "82322f4b",
   "metadata": {},
   "outputs": [],
   "source": [
    "salary_mean_dict = salary_mean.iloc[0].to_dict()\n",
    "salary_mean_dict = {int(year): val / 10 for year, val in salary_mean_dict.items()}\n"
   ]
  },
  {
   "cell_type": "code",
   "execution_count": 12,
   "id": "4c2ab056",
   "metadata": {},
   "outputs": [
    {
     "name": "stdout",
     "output_type": "stream",
     "text": [
      "2017 4\n",
      "2018 4\n",
      "2019 4\n",
      "2020 4\n",
      "2021 4\n",
      "2022 4\n",
      "2023 5\n",
      "2024 5\n"
     ]
    }
   ],
   "source": [
    "for year in salary_mean_dict:\n",
    "    avg_salary = salary_mean_dict[year]\n",
    "    print(year, (age1529[\"중앙값\"] <= avg_salary).sum())"
   ]
  },
  {
   "cell_type": "code",
   "execution_count": 13,
   "id": "3ffb9fcc",
   "metadata": {},
   "outputs": [
    {
     "name": "stdout",
     "output_type": "stream",
     "text": [
      "     연도  평균 이하 비율\n",
      "0  2017    0.8386\n",
      "1  2018    0.8266\n",
      "2  2019    0.7947\n",
      "3  2020    0.7661\n",
      "4  2021    0.7340\n",
      "5  2022    0.6797\n",
      "6  2023    0.9567\n",
      "7  2024    0.9495\n"
     ]
    }
   ],
   "source": [
    "below_ratios = {}\n",
    "\n",
    "for year in [str(y) for y in range(2017, 2025)]:\n",
    "    avg_salary = salary_mean_dict[int(year)]\n",
    "    total = age1529[year].sum() # 해당 년도에서 전체 청년 근로자 수의 합\n",
    "    below_avg = age1529[age1529[\"중앙값\"] <= avg_salary][year].sum() # 청년 근로자 중 평균 이하의 수\n",
    "    below_ratios[year] = round(below_avg / total, 4) # 평균 이하 비율 계산 \n",
    "\n",
    "below_df = pd.DataFrame(list(below_ratios.items()), columns=['연도', '평균 이하 비율'])\n",
    "print(below_df)"
   ]
  },
  {
   "cell_type": "code",
   "execution_count": 14,
   "id": "6c0148f1",
   "metadata": {},
   "outputs": [],
   "source": [
    "below_df['평균 이하 비율'] = below_df['평균 이하 비율'] * 100"
   ]
  },
  {
   "cell_type": "markdown",
   "id": "abd8f4fc",
   "metadata": {},
   "source": [
    "### 🎨시각화"
   ]
  },
  {
   "cell_type": "code",
   "execution_count": 15,
   "id": "bb1abeb6",
   "metadata": {},
   "outputs": [
    {
     "data": {
      "image/png": "[encoded data removed]",
      "text/plain": [
       "<Figure size 1000x500 with 2 Axes>"
      ]
     },
     "metadata": {},
     "output_type": "display_data"
    }
   ],
   "source": [
    "fig, ax1 = plt.subplots(figsize=(10, 5))\n",
    "\n",
    "# 평균 이하 비율(막대)\n",
    "bar = sns.barplot(data=below_df, x='연도', y='평균 이하 비율', color='skyblue', ax=ax1)\n",
    "ax1.set_ylabel('평균 이하 비율(%)', color='royalblue')\n",
    "ax1.set_ylim(0, 100)\n",
    "\n",
    "# 막대 위에 값 표시\n",
    "for p in bar.patches:\n",
    "    height = p.get_height()\n",
    "    ax1.annotate(f'{height:.1f}%', \n",
    "                 (p.get_x() + p.get_width() / 2, height), \n",
    "                 ha='center', va='bottom', fontsize=10, color='black')\n",
    "\n",
    "# 평균임금(선, 보조축)\n",
    "years = [str(y) for y in salary_mean_dict.keys()]\n",
    "salary_means = list(salary_mean_dict.values())\n",
    "ax2 = ax1.twinx()\n",
    "ax2.plot(years, salary_means, color='red', marker='o', label='평균임금')\n",
    "ax2.set_ylabel('평균임금(만원)', color='red')\n",
    "\n",
    "plt.title('연도별 평균 이하 임금 근로자 비율(%) & 평균임금(만원)')\n",
    "plt.show()"
   ]
  },
  {
   "cell_type": "markdown",
   "id": "593933b3",
   "metadata": {},
   "source": [
    "#### 결과 &Downarrow; 평균 임금은 증가하고 있지만 평균 이하 임금을 받는 사람은 늘고 있음\n",
    "- 어? 그러면 이에 불만족스러워서 퇴사율이 증가할 수 있겠네?\n",
    "- 아니면 다른 데이터로 한번 더 해보자"
   ]
  },
  {
   "cell_type": "markdown",
   "id": "e3feb4ac",
   "metadata": {},
   "source": [
    "---"
   ]
  },
  {
   "cell_type": "markdown",
   "id": "c9fe96e6",
   "metadata": {},
   "source": [
    "## ✍조기 퇴사율\n",
    "#### 1년 미만 퇴사율 계산"
   ]
  },
  {
   "cell_type": "code",
   "execution_count": null,
   "id": "919a2406",
   "metadata": {},
   "outputs": [],
   "source": [
    "# 근속기간\n",
    "c_employment = pd.read_excel(\"data/근로형태별 평균근속기간 및 근속기간별 구성비.xlsx\")\n",
    "c_employment"
   ]
  },
  {
   "cell_type": "code",
   "execution_count": 17,
   "id": "db451aee",
   "metadata": {},
   "outputs": [
    {
     "data": {
      "text/html": [
       "<div>\n",
       "<style scoped>\n",
       "    .dataframe tbody tr th:only-of-type {\n",
       "        vertical-align: middle;\n",
       "    }\n",
       "\n",
       "    .dataframe tbody tr th {\n",
       "        vertical-align: top;\n",
       "    }\n",
       "\n",
       "    .dataframe thead th {\n",
       "        text-align: right;\n",
       "    }\n",
       "</style>\n",
       "<table border=\"1\" class=\"dataframe\">\n",
       "  <thead>\n",
       "    <tr style=\"text-align: right;\">\n",
       "      <th></th>\n",
       "      <th>2017</th>\n",
       "      <th>2018</th>\n",
       "      <th>2019</th>\n",
       "      <th>2020</th>\n",
       "      <th>2021</th>\n",
       "      <th>2022</th>\n",
       "      <th>2023</th>\n",
       "      <th>2024</th>\n",
       "    </tr>\n",
       "  </thead>\n",
       "  <tbody>\n",
       "    <tr>\n",
       "      <th>0</th>\n",
       "      <td>1년미만</td>\n",
       "      <td>1년미만</td>\n",
       "      <td>1년미만</td>\n",
       "      <td>1년미만</td>\n",
       "      <td>1년미만</td>\n",
       "      <td>1년미만</td>\n",
       "      <td>1년미만</td>\n",
       "      <td>1년미만</td>\n",
       "    </tr>\n",
       "    <tr>\n",
       "      <th>1</th>\n",
       "      <td>31.1</td>\n",
       "      <td>30.9</td>\n",
       "      <td>32.2</td>\n",
       "      <td>31.2</td>\n",
       "      <td>32.2</td>\n",
       "      <td>31.6</td>\n",
       "      <td>30.3</td>\n",
       "      <td>29.1</td>\n",
       "    </tr>\n",
       "    <tr>\n",
       "      <th>2</th>\n",
       "      <td>19.9</td>\n",
       "      <td>19</td>\n",
       "      <td>18.5</td>\n",
       "      <td>16.9</td>\n",
       "      <td>17.7</td>\n",
       "      <td>17.7</td>\n",
       "      <td>16.7</td>\n",
       "      <td>15.1</td>\n",
       "    </tr>\n",
       "    <tr>\n",
       "      <th>3</th>\n",
       "      <td>54.1</td>\n",
       "      <td>54.9</td>\n",
       "      <td>56.3</td>\n",
       "      <td>56.1</td>\n",
       "      <td>55.5</td>\n",
       "      <td>54.8</td>\n",
       "      <td>53.3</td>\n",
       "      <td>51.6</td>\n",
       "    </tr>\n",
       "    <tr>\n",
       "      <th>4</th>\n",
       "      <td>49.5</td>\n",
       "      <td>50.9</td>\n",
       "      <td>55.4</td>\n",
       "      <td>53.5</td>\n",
       "      <td>52.9</td>\n",
       "      <td>53.3</td>\n",
       "      <td>53.2</td>\n",
       "      <td>53</td>\n",
       "    </tr>\n",
       "    <tr>\n",
       "      <th>5</th>\n",
       "      <td>51.5</td>\n",
       "      <td>53.2</td>\n",
       "      <td>58.9</td>\n",
       "      <td>53.5</td>\n",
       "      <td>53</td>\n",
       "      <td>53.4</td>\n",
       "      <td>53</td>\n",
       "      <td>52.8</td>\n",
       "    </tr>\n",
       "    <tr>\n",
       "      <th>6</th>\n",
       "      <td>42.3</td>\n",
       "      <td>42.1</td>\n",
       "      <td>41.9</td>\n",
       "      <td>53.2</td>\n",
       "      <td>52.5</td>\n",
       "      <td>53.2</td>\n",
       "      <td>55.7</td>\n",
       "      <td>54.8</td>\n",
       "    </tr>\n",
       "    <tr>\n",
       "      <th>7</th>\n",
       "      <td>63.8</td>\n",
       "      <td>64.6</td>\n",
       "      <td>63.5</td>\n",
       "      <td>65.3</td>\n",
       "      <td>64.9</td>\n",
       "      <td>64.2</td>\n",
       "      <td>61</td>\n",
       "      <td>58.9</td>\n",
       "    </tr>\n",
       "    <tr>\n",
       "      <th>8</th>\n",
       "      <td>57.8</td>\n",
       "      <td>59.4</td>\n",
       "      <td>58.5</td>\n",
       "      <td>61.1</td>\n",
       "      <td>60.7</td>\n",
       "      <td>57.2</td>\n",
       "      <td>54.6</td>\n",
       "      <td>51.9</td>\n",
       "    </tr>\n",
       "  </tbody>\n",
       "</table>\n",
       "</div>"
      ],
      "text/plain": [
       "   2017  2018  2019  2020  2021  2022  2023  2024\n",
       "0  1년미만  1년미만  1년미만  1년미만  1년미만  1년미만  1년미만  1년미만\n",
       "1  31.1  30.9  32.2  31.2  32.2  31.6  30.3  29.1\n",
       "2  19.9    19  18.5  16.9  17.7  17.7  16.7  15.1\n",
       "3  54.1  54.9  56.3  56.1  55.5  54.8  53.3  51.6\n",
       "4  49.5  50.9  55.4  53.5  52.9  53.3  53.2    53\n",
       "5  51.5  53.2  58.9  53.5    53  53.4    53  52.8\n",
       "6  42.3  42.1  41.9  53.2  52.5  53.2  55.7  54.8\n",
       "7  63.8  64.6  63.5  65.3  64.9  64.2    61  58.9\n",
       "8  57.8  59.4  58.5  61.1  60.7  57.2  54.6  51.9"
      ]
     },
     "execution_count": 17,
     "metadata": {},
     "output_type": "execute_result"
    }
   ],
   "source": [
    "# 2017.08.2 ~ 2024.08.2 : 1년 미만\n",
    "\n",
    "cols_1 = [] # 1년 미만(XXXX.XX.02) 리스트 저장 => 컬럼으로 쓸 예정\n",
    "\n",
    "# 2017~2024 1년 미만 컬럼명 저장\n",
    "for i in range(2017, 2025):\n",
    "    cols_1.append(f'{i}.08.2')\n",
    "\n",
    "ce1 = c_employment[cols_1]\n",
    "cols = ce1.columns.str.replace('.08.2', '')\n",
    "ce1.columns = cols\n",
    "ce1\n"
   ]
  },
  {
   "cell_type": "markdown",
   "id": "3ba8be91",
   "metadata": {},
   "source": [
    "- 1년 미만 퇴사율 계산\n",
    "- 지금 내가 구해놓은 것은 임금이 평균보다 낮은 사람들의 비율\n",
    "- 그러면 이제 1년 미만 퇴사율을 구해서 저임금 비울과 1년 미만 퇴사율의 관계를 분석하면 됨"
   ]
  },
  {
   "cell_type": "code",
   "execution_count": null,
   "id": "a1206f99",
   "metadata": {},
   "outputs": [],
   "source": []
  }
 ],
 "metadata": {
  "kernelspec": {
   "display_name": "Python 3",
   "language": "python",
   "name": "python3"
  },
  "language_info": {
   "codemirror_mode": {
    "name": "ipython",
    "version": 3
   },
   "file_extension": ".py",
   "mimetype": "text/x-python",
   "name": "python",
   "nbconvert_exporter": "python",
   "pygments_lexer": "ipython3",
   "version": "3.10.11"
  }
 },
 "nbformat": 4,
 "nbformat_minor": 5
}
