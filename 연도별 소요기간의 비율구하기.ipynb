{
 "cells": [
  {
   "cell_type": "code",
   "execution_count": 1,
   "id": "bb713c2a-9233-4a6d-b561-637506587350",
   "metadata": {},
   "outputs": [],
   "source": [
    "# 기본 라이브러리\n",
    "import numpy as np\n",
    "import pandas as pd\n",
    "import matplotlib.pyplot as plt\n",
    "import seaborn as sns\n",
    "\n",
    "# 그래프 기본 테마 설정\n",
    "# https://coldbrown.co.kr/2023/07/%ED%8C%8C%EC%9D%B4%EC%8D%AC-%EC%8B%A4%EC%A0%84%ED%8E%B8-08-seaborn-sns-set%EC%9D%84-%ED%86%B5%ED%95%B4-%EC%8A%A4%ED%83%80%EC%9D%BC-%EC%84%A4%EC%A0%95%ED%95%98%EA%B8%B0/\n",
    "sns.set()\n",
    "\n",
    "# 그래프 기본 설정\n",
    "plt.rcParams['font.family'] = 'Malgun Gothic'\n",
    "# plt.rcParams['font.family'] = 'AppleGothic'\n",
    "plt.rcParams['figure.figsize'] = 10, 5\n",
    "plt.rcParams['font.size'] = 12\n",
    "plt.rcParams['axes.unicode_minus'] = False\n",
    "\n",
    "# 복잡한 통계 처리를 위한 라이브러리\n",
    "from scipy import stats"
   ]
  },
  {
   "cell_type": "code",
   "execution_count": 2,
   "id": "e8cdd877-1081-43b7-9524-8532440558fd",
   "metadata": {},
   "outputs": [],
   "source": [
    "# 엑셀 파일 경로\n",
    "file_path = '성별_첫 취업 소요기간 및 평균소요기간(15 ~ 24년).xlsx'"
   ]
  },
  {
   "cell_type": "code",
   "execution_count": 3,
   "id": "f6fc638b-e512-42a1-881a-a12866a43354",
   "metadata": {},
   "outputs": [
    {
     "name": "stderr",
     "output_type": "stream",
     "text": [
      "C:\\Users\\samsung\\anaconda\\Lib\\site-packages\\openpyxl\\styles\\stylesheet.py:237: UserWarning: Workbook contains no default style, apply openpyxl's default\n",
      "  warn(\"Workbook contains no default style, apply openpyxl's default\")\n"
     ]
    }
   ],
   "source": [
    "# 1. 파일을 header 없이 불러오기 (병합 셀 구조 대응)\n",
    "df_raw = pd.read_excel(file_path, sheet_name='데이터', header=None)"
   ]
  },
  {
   "cell_type": "code",
   "execution_count": 4,
   "id": "fcd2d99a-b3de-4d83-b04a-7cdb7db07e16",
   "metadata": {},
   "outputs": [],
   "source": [
    "# 2. 1행 + 2행을 조합하여 열 이름 만들기\n",
    "combined_header = df_raw.iloc[0].astype(str) + '_' + df_raw.iloc[1].astype(str)\n",
    "combined_header.iloc[0] = '연령구분'\n",
    "combined_header.iloc[1] = '성별'"
   ]
  },
  {
   "cell_type": "code",
   "execution_count": 5,
   "id": "436bf820-0910-4f1a-8c5d-a1df5440557e",
   "metadata": {},
   "outputs": [],
   "source": [
    "# 3. 3행부터 데이터프레임 구성\n",
    "df_data = df_raw[2:].copy()\n",
    "df_data.columns = combined_header\n",
    "df_data.reset_index(drop=True, inplace=True)"
   ]
  },
  {
   "cell_type": "code",
   "execution_count": 6,
   "id": "f7caacce-8651-4fd9-8b5e-a4569413f337",
   "metadata": {},
   "outputs": [],
   "source": [
    "# 4. '15~29세 전체' 행 필터링\n",
    "df_youth_total = df_data[\n",
    "    (df_data['연령구분'] == '15~29세') & (df_data['성별'] == '전체')\n",
    "].copy()"
   ]
  },
  {
   "cell_type": "code",
   "execution_count": 7,
   "id": "40eea9d2-31fb-43e2-bfb2-3d08def50a60",
   "metadata": {},
   "outputs": [],
   "source": [
    "# 5. 연도 및 분석할 소요기간 구간 정의\n",
    "years = list(range(2017, 2025))\n",
    "period_labels = ['3개월 미만', '3~6개월 미만', '6개월~1년 미만',\n",
    "                 '1~2년 미만', '2~3년 미만', '3년 이상']"
   ]
  },
  {
   "cell_type": "code",
   "execution_count": 8,
   "id": "693b804e-9757-4fa9-8638-d561029130fb",
   "metadata": {},
   "outputs": [],
   "source": [
    "# 6. 연도별 비율 계산\n",
    "results = []\n",
    "\n",
    "for year in years:\n",
    "    try:\n",
    "        # 임금근로자 수\n",
    "        wage_col = f'{year}.05_임금 근로자'\n",
    "        wage_total = pd.to_numeric(df_youth_total[wage_col].values[0], errors='coerce')\n",
    "\n",
    "        if pd.isna(wage_total) or wage_total == 0:\n",
    "            continue\n",
    "\n",
    "        # 구간별 인원\n",
    "        period_values = []\n",
    "        for label in period_labels:\n",
    "            col_key = f'{year}.05_{label}'\n",
    "            val = pd.to_numeric(df_youth_total[col_key].values[0], errors='coerce')\n",
    "            period_values.append(val)\n",
    "\n",
    "        if any(pd.isna(val) for val in period_values):\n",
    "            continue\n",
    "\n",
    "        # 비율 계산\n",
    "        period_percentages = [round(v / wage_total * 100, 2) for v in period_values]\n",
    "        row = {'연도': year, '임금근로자수': int(wage_total)}\n",
    "        for i, label in enumerate(period_labels):\n",
    "            row[label] = period_percentages[i]\n",
    "        results.append(row)\n",
    "    except:\n",
    "        continue"
   ]
  },
  {
   "cell_type": "code",
   "execution_count": 9,
   "id": "62766d95-28f1-48ae-ae5a-c5a9e782dd81",
   "metadata": {},
   "outputs": [],
   "source": [
    "# 7. 데이터프레임 생성 및 엑셀 저장\n",
    "df_result = pd.DataFrame(results)\n",
    "df_result.to_excel('첫_취업_소요기간_임금근로자기준_비율_원본.xlsx', index=False)"
   ]
  },
  {
   "cell_type": "code",
   "execution_count": null,
   "id": "e5ed6a60-1bce-48d7-b9a6-65fa19229b90",
   "metadata": {},
   "outputs": [],
   "source": []
  },
  {
   "cell_type": "code",
   "execution_count": null,
   "id": "5e0501c6-a40e-41d5-ade8-b46c820e95b8",
   "metadata": {},
   "outputs": [],
   "source": []
  },
  {
   "cell_type": "code",
   "execution_count": null,
   "id": "24aa0bd2-56ce-4ba7-b9f2-f1094afba8ef",
   "metadata": {},
   "outputs": [],
   "source": []
  },
  {
   "cell_type": "code",
   "execution_count": null,
   "id": "8fcb9a59-f1b1-419e-8524-97df7d5ed2fa",
   "metadata": {},
   "outputs": [],
   "source": []
  },
  {
   "cell_type": "code",
   "execution_count": null,
   "id": "1494cd84-0ce4-401d-9c4e-a21b52369b7a",
   "metadata": {},
   "outputs": [],
   "source": []
  },
  {
   "cell_type": "code",
   "execution_count": null,
   "id": "796e5a4b-4ed0-4497-ac32-84cd0443336f",
   "metadata": {},
   "outputs": [],
   "source": []
  },
  {
   "cell_type": "code",
   "execution_count": null,
   "id": "3548044f-c59a-40bf-8b95-dcfed9533668",
   "metadata": {},
   "outputs": [],
   "source": []
  },
  {
   "cell_type": "code",
   "execution_count": null,
   "id": "ef042f0f-e657-413b-b999-1a6a0db9313b",
   "metadata": {},
   "outputs": [],
   "source": []
  },
  {
   "cell_type": "code",
   "execution_count": null,
   "id": "1172c9b2-6def-4e2a-a7cb-08da52a61328",
   "metadata": {},
   "outputs": [],
   "source": []
  },
  {
   "cell_type": "code",
   "execution_count": null,
   "id": "754ab509-be43-4b44-95c7-8a318acfb717",
   "metadata": {},
   "outputs": [],
   "source": []
  },
  {
   "cell_type": "code",
   "execution_count": null,
   "id": "1a91fb2b-38eb-4f6e-9b09-5bcb9535aca3",
   "metadata": {},
   "outputs": [],
   "source": []
  }
 ],
 "metadata": {
  "kernelspec": {
   "display_name": "Python 3 (ipykernel)",
   "language": "python",
   "name": "python3"
  },
  "language_info": {
   "codemirror_mode": {
    "name": "ipython",
    "version": 3
   },
   "file_extension": ".py",
   "mimetype": "text/x-python",
   "name": "python",
   "nbconvert_exporter": "python",
   "pygments_lexer": "ipython3",
   "version": "3.12.7"
  }
 },
 "nbformat": 4,
 "nbformat_minor": 5
}
